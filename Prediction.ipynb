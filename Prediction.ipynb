{
 "cells": [
  {
   "cell_type": "code",
   "execution_count": 1,
   "metadata": {},
   "outputs": [],
   "source": [
    "import numpy as np\n",
    "import pandas as pd\n",
    "from sklearn.model_selection import train_test_split\n",
    "from sklearn.metrics import mean_squared_error, make_scorer\n",
    "from sklearn.model_selection import GridSearchCV"
   ]
  },
  {
   "cell_type": "markdown",
   "metadata": {},
   "source": [
    "Read the data saved after the data cleanup."
   ]
  },
  {
   "cell_type": "code",
   "execution_count": 2,
   "metadata": {},
   "outputs": [
    {
     "data": {
      "text/plain": [
       "(4837151, 11)"
      ]
     },
     "execution_count": 2,
     "metadata": {},
     "output_type": "execute_result"
    }
   ],
   "source": [
    "df = pd.read_csv('train_clean.csv')\n",
    "df_y = df.fare_amount\n",
    "df_X = df.drop(['fare_amount'], axis=1)\n",
    "df_X.shape"
   ]
  },
  {
   "cell_type": "code",
   "execution_count": 3,
   "metadata": {},
   "outputs": [],
   "source": [
    "del df"
   ]
  },
  {
   "cell_type": "code",
   "execution_count": 4,
   "metadata": {
    "scrolled": true
   },
   "outputs": [
    {
     "data": {
      "text/html": [
       "<div>\n",
       "<style scoped>\n",
       "    .dataframe tbody tr th:only-of-type {\n",
       "        vertical-align: middle;\n",
       "    }\n",
       "\n",
       "    .dataframe tbody tr th {\n",
       "        vertical-align: top;\n",
       "    }\n",
       "\n",
       "    .dataframe thead th {\n",
       "        text-align: right;\n",
       "    }\n",
       "</style>\n",
       "<table border=\"1\" class=\"dataframe\">\n",
       "  <thead>\n",
       "    <tr style=\"text-align: right;\">\n",
       "      <th></th>\n",
       "      <th>pickup_longitude</th>\n",
       "      <th>pickup_latitude</th>\n",
       "      <th>dropoff_longitude</th>\n",
       "      <th>dropoff_latitude</th>\n",
       "      <th>passenger_count</th>\n",
       "      <th>trip_distance</th>\n",
       "      <th>pickup_day</th>\n",
       "      <th>pickup_hour</th>\n",
       "      <th>pickup_month</th>\n",
       "      <th>pickup_year</th>\n",
       "      <th>pickup_day_of_week</th>\n",
       "    </tr>\n",
       "  </thead>\n",
       "  <tbody>\n",
       "    <tr>\n",
       "      <th>0</th>\n",
       "      <td>-73.844311</td>\n",
       "      <td>40.721319</td>\n",
       "      <td>-73.841610</td>\n",
       "      <td>40.712278</td>\n",
       "      <td>1</td>\n",
       "      <td>0.640487</td>\n",
       "      <td>15</td>\n",
       "      <td>17</td>\n",
       "      <td>6</td>\n",
       "      <td>2009</td>\n",
       "      <td>0</td>\n",
       "    </tr>\n",
       "    <tr>\n",
       "      <th>1</th>\n",
       "      <td>-74.016048</td>\n",
       "      <td>40.711303</td>\n",
       "      <td>-73.979268</td>\n",
       "      <td>40.782004</td>\n",
       "      <td>1</td>\n",
       "      <td>5.250668</td>\n",
       "      <td>5</td>\n",
       "      <td>16</td>\n",
       "      <td>1</td>\n",
       "      <td>2010</td>\n",
       "      <td>1</td>\n",
       "    </tr>\n",
       "    <tr>\n",
       "      <th>2</th>\n",
       "      <td>-73.982738</td>\n",
       "      <td>40.761270</td>\n",
       "      <td>-73.991242</td>\n",
       "      <td>40.750562</td>\n",
       "      <td>2</td>\n",
       "      <td>0.863411</td>\n",
       "      <td>18</td>\n",
       "      <td>0</td>\n",
       "      <td>8</td>\n",
       "      <td>2011</td>\n",
       "      <td>3</td>\n",
       "    </tr>\n",
       "    <tr>\n",
       "      <th>3</th>\n",
       "      <td>-73.987130</td>\n",
       "      <td>40.733143</td>\n",
       "      <td>-73.991567</td>\n",
       "      <td>40.758092</td>\n",
       "      <td>1</td>\n",
       "      <td>1.739385</td>\n",
       "      <td>21</td>\n",
       "      <td>4</td>\n",
       "      <td>4</td>\n",
       "      <td>2012</td>\n",
       "      <td>5</td>\n",
       "    </tr>\n",
       "    <tr>\n",
       "      <th>4</th>\n",
       "      <td>-73.968095</td>\n",
       "      <td>40.768008</td>\n",
       "      <td>-73.956655</td>\n",
       "      <td>40.783762</td>\n",
       "      <td>1</td>\n",
       "      <td>1.242218</td>\n",
       "      <td>9</td>\n",
       "      <td>7</td>\n",
       "      <td>3</td>\n",
       "      <td>2010</td>\n",
       "      <td>1</td>\n",
       "    </tr>\n",
       "  </tbody>\n",
       "</table>\n",
       "</div>"
      ],
      "text/plain": [
       "   pickup_longitude  pickup_latitude  dropoff_longitude  dropoff_latitude  \\\n",
       "0        -73.844311        40.721319         -73.841610         40.712278   \n",
       "1        -74.016048        40.711303         -73.979268         40.782004   \n",
       "2        -73.982738        40.761270         -73.991242         40.750562   \n",
       "3        -73.987130        40.733143         -73.991567         40.758092   \n",
       "4        -73.968095        40.768008         -73.956655         40.783762   \n",
       "\n",
       "   passenger_count  trip_distance  pickup_day  pickup_hour  pickup_month  \\\n",
       "0                1       0.640487          15           17             6   \n",
       "1                1       5.250668           5           16             1   \n",
       "2                2       0.863411          18            0             8   \n",
       "3                1       1.739385          21            4             4   \n",
       "4                1       1.242218           9            7             3   \n",
       "\n",
       "   pickup_year  pickup_day_of_week  \n",
       "0         2009                   0  \n",
       "1         2010                   1  \n",
       "2         2011                   3  \n",
       "3         2012                   5  \n",
       "4         2010                   1  "
      ]
     },
     "execution_count": 4,
     "metadata": {},
     "output_type": "execute_result"
    }
   ],
   "source": [
    "df_X.head()"
   ]
  },
  {
   "cell_type": "code",
   "execution_count": 5,
   "metadata": {},
   "outputs": [],
   "source": [
    "def rmse(y, y_pred):\n",
    "    return np.sqrt(mean_squared_error(y, y_pred))"
   ]
  },
  {
   "cell_type": "code",
   "execution_count": 6,
   "metadata": {},
   "outputs": [],
   "source": [
    "train_X, test_X, train_y, test_y = train_test_split(df_X, df_y, test_size=0.33, random_state=42)"
   ]
  },
  {
   "cell_type": "code",
   "execution_count": 8,
   "metadata": {},
   "outputs": [],
   "source": [
    "def gridSearch(clf, parameters):\n",
    "    \n",
    "    # Make an RMSE scoring object.\n",
    "    scorer = make_scorer(rmse, greater_is_better = False)\n",
    "\n",
    "    # Perform grid search on the classifier using 'scorer' as the scoring method.\n",
    "    grid_obj = GridSearchCV(clf, parameters, cv=3, scoring=scorer, n_jobs=-1)\n",
    "\n",
    "    # Fit the grid search object to the training data and find the optimal parameters.\n",
    "    grid_fit = grid_obj.fit(train_X, train_y)\n",
    "\n",
    "    # Get the estimator.\n",
    "    best_clf = grid_fit.best_estimator_\n",
    "    \n",
    "    # Let's also explore what parameters ended up being used in the new model.\n",
    "    print(\"Best Model obtained after GridSearch :\")\n",
    "    print(best_clf)\n",
    "\n",
    "    return best_clf \n"
   ]
  },
  {
   "cell_type": "code",
   "execution_count": 9,
   "metadata": {},
   "outputs": [],
   "source": [
    "def evaluate_model(clf):\n",
    "    \n",
    "    # Fit the model.\n",
    "    clf.fit(train_X, train_y)\n",
    "\n",
    "    # Make predictions on test data\n",
    "    pred = clf.predict(test_X)\n",
    "    print(f'RMSE (Test Data) : {rmse(test_y, pred)}')\n",
    "    \n",
    "    # Make predictions on train data\n",
    "    pred = clf.predict(train_X)\n",
    "    print(f'RMSE (Train Data) : {rmse(train_y, pred)}')"
   ]
  },
  {
   "cell_type": "markdown",
   "metadata": {},
   "source": [
    "### Decision Tree Regressor"
   ]
  },
  {
   "cell_type": "markdown",
   "metadata": {},
   "source": [
    "First I will run the regressor by using the default parameters. Then I will run GridSearchCV to tune the hyperparameters."
   ]
  },
  {
   "cell_type": "code",
   "execution_count": 8,
   "metadata": {},
   "outputs": [
    {
     "name": "stdout",
     "output_type": "stream",
     "text": [
      "Without Parameter Tuning :\n",
      "RMSE (Test Data) : 4.7361202406526015\n",
      "RMSE (Train Data) : 2.931870123872723e-15\n",
      "Best Model obtained after GridSearch :\n",
      "DecisionTreeRegressor(criterion='mse', max_depth=20, max_features=None,\n",
      "           max_leaf_nodes=None, min_impurity_decrease=0.0,\n",
      "           min_impurity_split=None, min_samples_leaf=20,\n",
      "           min_samples_split=100, min_weight_fraction_leaf=0.0,\n",
      "           presort=False, random_state=42, splitter='best')\n",
      "RMSE (Test Data) : 3.492933228722207\n",
      "RMSE (Train Data) : 3.2505450748737843\n"
     ]
    }
   ],
   "source": [
    "from sklearn.tree import DecisionTreeRegressor\n",
    "\n",
    "regressor = DecisionTreeRegressor(random_state=42)\n",
    "print('Without Parameter Tuning :')\n",
    "evaluate_model(regressor)\n",
    "\n",
    "#Tune the hyperparameters using Grid Search\n",
    "parameters = {'max_depth':[10, 20, 50], 'min_samples_leaf': [10, 20, 50], 'min_samples_split' : [20, 50, 100]}\n",
    "\n",
    "regressor = gridSearch(regressor, parameters)\n",
    "evaluate_model(regressor)"
   ]
  },
  {
   "cell_type": "markdown",
   "metadata": {},
   "source": [
    "### Random Forest Regressor"
   ]
  },
  {
   "cell_type": "markdown",
   "metadata": {},
   "source": [
    "Let's try Random Forest Regressor now."
   ]
  },
  {
   "cell_type": "code",
   "execution_count": 9,
   "metadata": {},
   "outputs": [
    {
     "name": "stdout",
     "output_type": "stream",
     "text": [
      "Without Parameter Tuning :\n",
      "RMSE (Test Data) : 3.309397942589038\n",
      "RMSE (Train Data) : 1.2308374489316625\n",
      "Best Model obtained after GridSearch :\n",
      "RandomForestRegressor(bootstrap=True, criterion='mse', max_depth=50,\n",
      "           max_features='auto', max_leaf_nodes=None,\n",
      "           min_impurity_decrease=0.0, min_impurity_split=None,\n",
      "           min_samples_leaf=1, min_samples_split=15,\n",
      "           min_weight_fraction_leaf=0.0, n_estimators=100, n_jobs=None,\n",
      "           oob_score=False, random_state=42, verbose=0, warm_start=False)\n",
      "RMSE (Test Data) : 3.2941817505013753\n",
      "RMSE (Train Data) : 2.139537877157225\n"
     ]
    }
   ],
   "source": [
    "#Random Forest Regressor\n",
    "from sklearn.ensemble import RandomForestRegressor\n",
    "\n",
    "regressor = RandomForestRegressor(random_state=42, n_estimators=100)\n",
    "print('Without Parameter Tuning :')\n",
    "evaluate_model(regressor)\n",
    "\n",
    "#Tune the hyperparameters using Grid Search\n",
    "parameters = {'max_depth': [20, 50], 'min_samples_split' : [5, 10, 15]}\n",
    "\n",
    "regressor = gridSearch(regressor, parameters)\n",
    "evaluate_model(regressor)"
   ]
  },
  {
   "cell_type": "markdown",
   "metadata": {},
   "source": [
    "The results given by random forest regressor are a slight improvement over the results given by Decision Trees."
   ]
  },
  {
   "cell_type": "markdown",
   "metadata": {},
   "source": [
    "### Support Vector Regressor"
   ]
  },
  {
   "cell_type": "code",
   "execution_count": 10,
   "metadata": {
    "scrolled": true
   },
   "outputs": [
    {
     "name": "stdout",
     "output_type": "stream",
     "text": [
      "Without Parameter Tuning :\n",
      "RMSE (Test Data) : 19.82496475969781\n",
      "RMSE (Train Data) : 19.829560778709116\n",
      "Best Model obtained after GridSearch :\n",
      "SVR(C=1.0, cache_size=50000, coef0=0.0, degree=4, epsilon=1.5, gamma='scale',\n",
      "   kernel='poly', max_iter=10000, shrinking=True, tol=0.001, verbose=False)\n",
      "RMSE (Test Data) : 19.73822191721031\n",
      "RMSE (Train Data) :  19.74277713553644\n"
     ]
    }
   ],
   "source": [
    "#Support Vector Regressor\n",
    "from sklearn.svm import SVR\n",
    "from warnings import filterwarnings\n",
    "\n",
    "\n",
    "#Ignore the ConvergenceWarning: Solver terminated early (max_iter=10000).  \n",
    "#Consider pre-processing your data with StandardScaler or MinMaxScaler. \n",
    "filterwarnings('ignore', category= UserWarning)\n",
    "\n",
    "regressor = SVR(gamma='scale', max_iter = 10000, cache_size=50000)\n",
    "print('Without Parameter Tuning :')\n",
    "evaluate_model(regressor)\n",
    "\n",
    "#Tune the hyperparameters using Grid Search\n",
    "parameters = {'kernel': ['linear', 'poly', 'rbf', 'sigmoid'], 'degree': [1, 2, 3, 4], 'epsilon': [0.1, 0.5, 1.5]}\n",
    "\n",
    "regressor = gridSearch(regressor, parameters)\n",
    "evaluate_model(regressor)\n",
    "\n",
    "filterwarnings('default')#Reset the warning filter to default"
   ]
  },
  {
   "cell_type": "markdown",
   "metadata": {},
   "source": [
    "### Ada Boost Regressor"
   ]
  },
  {
   "cell_type": "code",
   "execution_count": 11,
   "metadata": {
    "scrolled": true
   },
   "outputs": [
    {
     "name": "stdout",
     "output_type": "stream",
     "text": [
      "Without Parameter Tuning :\n",
      "RMSE (Test Data) : 10.218112425602444\n",
      "RMSE (Train Data) : 10.222883987432152\n"
     ]
    }
   ],
   "source": [
    "from sklearn.ensemble import AdaBoostRegressor\n",
    "\n",
    "regressor = AdaBoostRegressor(n_estimators=1000, random_state=42)\n",
    "print(f'Without Parameter Tuning :\n",
    "evaluate_model(regressor)"
   ]
  },
  {
   "cell_type": "markdown",
   "metadata": {},
   "source": [
    "Now, I will try using the best DecisionTreeClassfier obtained after we ran GridSearchCV."
   ]
  },
  {
   "cell_type": "code",
   "execution_count": 11,
   "metadata": {},
   "outputs": [
    {
     "name": "stdout",
     "output_type": "stream",
     "text": [
      "After Changing Base Estimator :\n",
      "RMSE (Test Data) : 4.575925746791277\n",
      "RMSE (Train Data) : 3.9494954181721362\n"
     ]
    }
   ],
   "source": [
    "base_reg= DecisionTreeRegressor(criterion='mse', max_depth=20, max_features=None,\n",
    "           max_leaf_nodes=None, min_impurity_decrease=0.0,\n",
    "           min_impurity_split=None, min_samples_leaf=20,\n",
    "           min_samples_split=100, min_weight_fraction_leaf=0.0,\n",
    "           presort=False, random_state=0, splitter='best')\n",
    "\n",
    "regressor = AdaBoostRegressor(base_estimator = base_reg, n_estimators=100, random_state=42)\n",
    "print('After Changing Base Estimator :')\n",
    "evaluate_model(regressor)"
   ]
  },
  {
   "cell_type": "code",
   "execution_count": null,
   "metadata": {},
   "outputs": [],
   "source": []
  }
 ],
 "metadata": {
  "kernelspec": {
   "display_name": "Python 3",
   "language": "python",
   "name": "python3"
  },
  "language_info": {
   "codemirror_mode": {
    "name": "ipython",
    "version": 3
   },
   "file_extension": ".py",
   "mimetype": "text/x-python",
   "name": "python",
   "nbconvert_exporter": "python",
   "pygments_lexer": "ipython3",
   "version": "3.7.2"
  }
 },
 "nbformat": 4,
 "nbformat_minor": 2
}
